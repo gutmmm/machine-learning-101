{
 "cells": [
  {
   "cell_type": "code",
   "execution_count": null,
   "metadata": {},
   "outputs": [],
   "source": [
    "import pandas as pd\n",
    "import seaborn as sns\n",
    "import matplotlib.pyplot as plt"
   ]
  },
  {
   "cell_type": "code",
   "execution_count": null,
   "metadata": {},
   "outputs": [],
   "source": [
    "data = pd.read_csv('housing.csv')\n",
    "data = data.sample(frac=1, random_state=1)\n",
    "data = data.dropna()\n",
    "\n",
    "data.hist(figsize=(15,10))"
   ]
  },
  {
   "cell_type": "code",
   "execution_count": null,
   "metadata": {},
   "outputs": [],
   "source": [
    "data = data.join(pd.get_dummies(data['ocean_proximity'])).drop(['ocean_proximity'], axis=1)\n",
    "y_data = data['median_house_value']\n",
    "data = data.drop(['median_house_value'], axis=1)\n",
    "data = data.join(y_data)"
   ]
  },
  {
   "cell_type": "code",
   "execution_count": null,
   "metadata": {},
   "outputs": [],
   "source": [
    "plt.figure(figsize=(15,10))\n",
    "sns.heatmap(data.corr(), annot=True)"
   ]
  },
  {
   "cell_type": "code",
   "execution_count": null,
   "metadata": {},
   "outputs": [],
   "source": [
    "x_data, y_data = data.iloc[:, :-1], data.iloc[:, -1]\n",
    "x_data = (x_data - x_data.mean())/x_data.std()"
   ]
  },
  {
   "cell_type": "code",
   "execution_count": null,
   "metadata": {},
   "outputs": [],
   "source": [
    "train_size = int(0.7 * len(x_data))\n",
    "val_size = int(0.2 * len(x_data))\n",
    "test_size = int(0.1 * len(x_data))\n",
    "\n",
    "train_range = train_size\n",
    "val_range = train_size + val_size\n",
    "test_range = train_size + val_size + test_size\n",
    "\n",
    "train_size, val_size, test_size"
   ]
  },
  {
   "cell_type": "code",
   "execution_count": null,
   "metadata": {},
   "outputs": [],
   "source": [
    "x_train, y_train = x_data.iloc[0:train_size], y_data.iloc[0:train_size]\n",
    "x_val, y_val = x_data.iloc[train_size:val_range], y_data.iloc[train_size:val_range]\n",
    "x_test, y_test = x_data.iloc[val_range:test_range], y_data.iloc[val_range:test_range]"
   ]
  },
  {
   "cell_type": "code",
   "execution_count": null,
   "metadata": {},
   "outputs": [],
   "source": [
    "y_train = pd.DataFrame(y_train)\n",
    "w0 = 1\n",
    "w1 = 1\n",
    "\n",
    "dw = []\n",
    "for x_feature, y_feature in zip(x_train.iterrows(), y_train.iterrows()):\n",
    "    dw.append(y_feature[1]['median_house_value'] - w0*x_feature[1]['longitude']  + w1*x_feature[1]['latitude'])\n",
    "sum(dw)\n",
    "\n",
    "2/len(x_train) * sum(dw)\n"
   ]
  },
  {
   "cell_type": "code",
   "execution_count": null,
   "metadata": {},
   "outputs": [],
   "source": [
    "lr = 0.0001\n",
    "w0 = 1\n",
    "w1 = 1\n",
    "b=1\n",
    "loss = []\n",
    "for x in range(1000000):\n",
    "    dw0 = 2/len(x_train) * sum(y_train - (w0*x_train['longitude'] + w1*x_train['latitude'] + b)* -x_train['longitude'])\n",
    "    dw1 = 2/len(x_train) * sum(y_train - (w0*x_train['longitude'] + w1*x_train['latitude'] + b)* -x_train['latitude'])\n",
    "    db = 2/len(x_train) * sum(y_train - (w0*x_train['longitude'] + w1*x_train['latitude'] + b)*-1)\n",
    "    w0 = w0 - lr*dw0\n",
    "    w1 = w1 - lr*dw1\n",
    "    b = b - lr*db\n",
    "\n",
    "    sum_sqrt = sum(y_train - w0*x_train['longitude'] - w1*x_train['latitude'] + b)**2\n",
    "    loss_item = 1/len(x_train) * sum_sqrt\n",
    "    print(loss_item)\n",
    "    loss.append(loss_item)\n"
   ]
  },
  {
   "cell_type": "code",
   "execution_count": null,
   "metadata": {},
   "outputs": [],
   "source": [
    "plt.plot(loss)\n",
    "plt.show()"
   ]
  },
  {
   "cell_type": "code",
   "execution_count": null,
   "metadata": {},
   "outputs": [],
   "source": []
  }
 ],
 "metadata": {
  "kernelspec": {
   "display_name": "base",
   "language": "python",
   "name": "python3"
  },
  "language_info": {
   "codemirror_mode": {
    "name": "ipython",
    "version": 3
   },
   "file_extension": ".py",
   "mimetype": "text/x-python",
   "name": "python",
   "nbconvert_exporter": "python",
   "pygments_lexer": "ipython3",
   "version": "3.10.10"
  },
  "orig_nbformat": 4
 },
 "nbformat": 4,
 "nbformat_minor": 2
}
